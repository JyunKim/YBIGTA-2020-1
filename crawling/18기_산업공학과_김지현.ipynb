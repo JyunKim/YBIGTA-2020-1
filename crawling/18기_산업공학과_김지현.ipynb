{
 "cells": [
  {
   "cell_type": "code",
   "execution_count": 1,
   "metadata": {},
   "outputs": [],
   "source": [
    "import requests\n",
    "from bs4 import BeautifulSoup"
   ]
  },
  {
   "cell_type": "code",
   "execution_count": 2,
   "metadata": {},
   "outputs": [],
   "source": [
    "url = 'https://search.naver.com/search.naver?where=news&sm=tab_jum&query=%EC%A0%9C%EC%A3%BC%EB%8F%84'\n",
    "resp = requests.get(url)\n",
    "\n",
    "soup = BeautifulSoup(resp.text, 'html.parser')"
   ]
  },
  {
   "cell_type": "code",
   "execution_count": 3,
   "metadata": {},
   "outputs": [],
   "source": [
    "titles = soup.find_all('a', class_=\"news_tit\")"
   ]
  },
  {
   "cell_type": "code",
   "execution_count": 4,
   "metadata": {},
   "outputs": [],
   "source": [
    "title_list = [title.get_text() for title in titles]"
   ]
  },
  {
   "cell_type": "code",
   "execution_count": 5,
   "metadata": {},
   "outputs": [
    {
     "data": {
      "text/plain": [
       "['제주도, 논란 끝에 제2공항 찬반 여론조사 하긴 하는데…',\n",
       " '국민의힘 제주도당, 강충룡-김명석 공동 대변인 체계',\n",
       " '제주도지체장애인협회, 장애인식개선교육 참가자 모집',\n",
       " '제주도의회, 해양수산 발전 정책간담회 개최',\n",
       " '제주도교육청, 교사 및 교육공무직원 194명 선발',\n",
       " '2021학년도 제주도 임용후보자 최종합격자 발표',\n",
       " '제주도, 광역단체 최초 청각장애인 전담 수어통역사 채용',\n",
       " '롯데백화점, 제주도 특산물로 기획된 설 선물 세트 선보여',\n",
       " \"제주도의회, 전국 최초 '웰니스 관광' 지원 조례 만든다\",\n",
       " '제주도, 지역역량강화사업 참여마을 모집']"
      ]
     },
     "execution_count": 5,
     "metadata": {},
     "output_type": "execute_result"
    }
   ],
   "source": [
    "title_list"
   ]
  }
 ],
 "metadata": {
  "kernelspec": {
   "display_name": "Python 3",
   "language": "python",
   "name": "python3"
  },
  "language_info": {
   "codemirror_mode": {
    "name": "ipython",
    "version": 3
   },
   "file_extension": ".py",
   "mimetype": "text/x-python",
   "name": "python",
   "nbconvert_exporter": "python",
   "pygments_lexer": "ipython3",
   "version": "3.8.5"
  }
 },
 "nbformat": 4,
 "nbformat_minor": 4
}
